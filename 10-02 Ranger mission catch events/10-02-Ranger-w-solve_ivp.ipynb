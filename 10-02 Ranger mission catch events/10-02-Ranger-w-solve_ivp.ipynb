{
 "cells": [
  {
   "cell_type": "code",
   "execution_count": 19,
   "id": "108c798e",
   "metadata": {},
   "outputs": [
    {
     "name": "stdout",
     "output_type": "stream",
     "text": [
      "  message: A termination event occurred.\n",
      "  success: True\n",
      "   status: 1\n",
      "        t: [ 0.000e+00  3.725e-01 ...  7.973e+04  1.000e+05]\n",
      "        y: [[ 6.438e+06  6.442e+06 ...  3.171e+08  3.844e+08]\n",
      "            [ 1.150e+04  1.150e+04 ...  3.314e+03  3.336e+03]]\n",
      "      sol: <scipy.integrate._ivp.common.OdeSolution object at 0x000002025B0C6930>\n",
      " t_events: [array([], dtype=float64), array([ 8.848e+04]), array([ 1.000e+05])]\n",
      " y_events: [array([], dtype=float64), array([[ 3.460e+08,  3.299e+03]]), array([[ 3.844e+08,  3.336e+03]])]\n",
      "     nfev: 80\n",
      "     njev: 0\n",
      "      nlu: 0 \n",
      "\n",
      "first few simulation values: \n",
      "time =  [ 0.          0.37247474  4.09722219 41.34469663]\n",
      "radius from earth =  [6438000.         6442282.79230099 6485037.6726109  6905619.84400278]\n",
      "velocity =  [11500.         11496.41795096 11460.85739715 11129.21239587]\n",
      "\n",
      "Events tracked were:     events=(fell_back_to_earth, passed_point_of_no_return, made_it_to_the_moon),\n",
      "t_events =  [array([], dtype=float64), array([88476.63706873]), array([100041.04863251])]\n",
      "y_events =  [array([], dtype=float64), array([[3.46036757e+08, 3.29922749e+03]]), array([[3.84400000e+08, 3.33634245e+03]])]\n"
     ]
    }
   ],
   "source": [
    "# Ranger 7 mission\n",
    "import math\n",
    "import numpy as np\n",
    "import matplotlib.pyplot as plt\n",
    "from scipy.integrate import solve_ivp\n",
    "\n",
    "# constants\n",
    "G=6.67e-11 \n",
    "m_earth=5.98e24 # kg (Earth's mass)\n",
    "m_ranger= 10000 # kg (mass of rcocket)\n",
    "m_moon=7.35e22 # kg (moon's mass)\n",
    "r_earth=6.388e6 # m (radius of Earth)\n",
    "r_moon_earth=3.844e8 # m (distance from Earth to moon)\n",
    "r_moon=1740e3 #m\n",
    "# point of no return\n",
    "a=1.0-(m_moon/m_earth)\n",
    "b=-2.0*r_moon_earth\n",
    "c=r_moon_earth**2\n",
    "r_point_of_no_return = (-b-math.sqrt(b**2-4*a*c))/(2.0*a)\n",
    "\n",
    "# this is the differential equation that I'm solving\n",
    "def dstate_dt(t, state, m_e, m_m, m_r, G, REM, r_point_of_no_return, r_earth): \n",
    "    r, v = state\n",
    "    \n",
    "    dr_dt = v\n",
    "    #F_earth=(-G*m_earth*m_ranger)/(r**2)\n",
    "    #F_moon=(G*m_moon*m_ranger)/((r_moon_earth-r)**2)\n",
    "    #F_net=F_earth+F_moon\n",
    "    # a = dv/dt = F_net/m \n",
    "    dv_dt = ((-G*m_e)/r**2) + (G*m_m)/((REM-r)**2)\n",
    "    #note that the ranger/rocket's mass has divided out\n",
    "        \n",
    "    return [dr_dt, dv_dt]\n",
    "\n",
    "\n",
    "# simulation parameters\n",
    "t_limit = [0,3*24*3600]\n",
    "r0 = r_earth+50.0e3\n",
    "v0 = 11.5e3\n",
    "\n",
    "# define events  \n",
    "# useful reference: https://docs.scipy.org/doc/scipy/reference/generated/scipy.integrate.solve_ivp.html\n",
    "def passed_point_of_no_return(t, state, m_e, m_m, m_r, G, REM, r_point_of_no_return, r_earth): \n",
    "    r, v = state\n",
    "    return r-r_point_of_no_return\n",
    "\n",
    "def fell_back_to_earth(t, state, m_e, m_m, m_r, G, REM, r_point_of_no_return, r_earth):\n",
    "    r, v = state\n",
    "    return r-r_earth\n",
    "fell_back_to_earth.terminal = True\n",
    "# why won't this work???\n",
    "# fell_back_to_earth.Terminal = True\n",
    "\n",
    "def made_it_to_the_moon(t, state, m_e, m_m, m_r, G, REM, r_point_of_no_return, r_earth):\n",
    "    r, v = state\n",
    "    return REM-r\n",
    "made_it_to_the_moon.terminal = True\n",
    "\n",
    "solution = solve_ivp(\n",
    "    dstate_dt, # derivative as function\n",
    "    t_limit,  # time interval to solve for\n",
    "    [r0, v0], # initial values\n",
    "    args=(m_earth,m_moon,m_ranger,G,r_moon_earth,r_point_of_no_return, r_earth,),\n",
    "    method=\"RK45\",\n",
    "    events=(fell_back_to_earth, passed_point_of_no_return, made_it_to_the_moon),\n",
    "    dense_output=True\n",
    ")\n",
    "\n",
    "print(solution,\"\\n\")\n",
    "print(\"first few simulation values: \")\n",
    "print(\"time = \",solution.t[0:4])\n",
    "print(\"radius from earth = \",solution.y[0,0:4])\n",
    "print(\"velocity = \",solution.y[1,0:4])\n",
    "print(\"\\nEvents tracked were:     events=(fell_back_to_earth, passed_point_of_no_return, made_it_to_the_moon),\")\n",
    "print(\"t_events = \",solution.t_events)\n",
    "print(\"y_events = \",solution.y_events)"
   ]
  },
  {
   "cell_type": "code",
   "execution_count": 143,
   "id": "fd410e6c-916c-41f2-8cd3-3c8849eb3031",
   "metadata": {},
   "outputs": [
    {
     "name": "stdout",
     "output_type": "stream",
     "text": [
      "[array([], dtype=float64), array([[3.46036757e+08, 3.29922749e+03]]), array([[3.84400000e+08, 3.33634245e+03]])]\n",
      "[[3.46036757e+08 3.29922749e+03]]\n",
      "[3.46036757e+08 3.29922749e+03]\n",
      "346036757.15451413\n"
     ]
    }
   ],
   "source": [
    "# How do you get at the event time arrays for plotting???\n",
    "print(solution.y_events)\n",
    "print(solution.y_events[1])\n",
    "print(solution.y_events[1][0])\n",
    "print(solution.y_events[1][0][0])"
   ]
  },
  {
   "cell_type": "code",
   "execution_count": 17,
   "id": "a7f5d51e-cd16-4d69-9f13-a0d3943f2a7a",
   "metadata": {
    "scrolled": true
   },
   "outputs": [
    {
     "data": {
      "image/png": "[encoded data removed]",
      "text/plain": [
       "<Figure size 640x480 with 1 Axes>"
      ]
     },
     "metadata": {},
     "output_type": "display_data"
    }
   ],
   "source": [
    "plt.plot(solution.y[0], solution.y[1],label=\"simulated trajectory\")\n",
    "plt.plot([r_moon_earth,r_moon_earth],[3e3,v0],label=\"this is the moon's position\")\n",
    "#plt.plot(solution.t_events[1],solution.y_events[1][0][0],'ro',label=\"point of no return\")\n",
    "plt.legend()\n",
    "plt.xlabel('position (m)')\n",
    "plt.ylabel('speed (m/s)')\n",
    "plt.grid()\n",
    "#plt.savefig(\"t-F_plot.png\")\n",
    "#plt.close()"
   ]
  },
  {
   "cell_type": "code",
   "execution_count": null,
   "id": "2dfd503e-c725-4abc-babb-b1ac6eaff51d",
   "metadata": {},
   "outputs": [],
   "source": []
  }
 ],
 "metadata": {
  "kernelspec": {
   "display_name": "Python 3 (ipykernel)",
   "language": "python",
   "name": "python3"
  },
  "language_info": {
   "codemirror_mode": {
    "name": "ipython",
    "version": 3
   },
   "file_extension": ".py",
   "mimetype": "text/x-python",
   "name": "python",
   "nbconvert_exporter": "python",
   "pygments_lexer": "ipython3",
   "version": "3.12.4"
  }
 },
 "nbformat": 4,
 "nbformat_minor": 5
}
